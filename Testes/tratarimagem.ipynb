{
  "nbformat": 4,
  "nbformat_minor": 0,
  "metadata": {
    "colab": {
      "provenance": []
    },
    "kernelspec": {
      "name": "python3",
      "display_name": "Python 3"
    },
    "language_info": {
      "name": "python"
    }
  },
  "cells": [
    {
      "cell_type": "markdown",
      "source": [],
      "metadata": {
        "id": "8RIdqUS9zvDr"
      }
    },
    {
      "cell_type": "code",
      "execution_count": 2,
      "metadata": {
        "id": "fe5ZBPNTGRFZ"
      },
      "outputs": [],
      "source": [
        "import os\n",
        "import zipfile\n",
        "import cv2\n",
        "from google.colab.patches import cv2_imshow"
      ]
    },
    {
      "cell_type": "code",
      "source": [
        "from google.colab import drive\n",
        "drive.mount('/content/drive')"
      ],
      "metadata": {
        "colab": {
          "base_uri": "https://localhost:8080/"
        },
        "id": "E9McLTjIIowE",
        "outputId": "b93fe204-5a08-4e9f-b8cb-7686e6f78747"
      },
      "execution_count": 3,
      "outputs": [
        {
          "output_type": "stream",
          "name": "stdout",
          "text": [
            "Mounted at /content/drive\n"
          ]
        }
      ]
    },
    {
      "cell_type": "code",
      "source": [
        "cam = '/content/drive/MyDrive/VC/Cópia de cat_dog_2-20230803T132654Z-001.zip'\n",
        "cpt = zipfile.ZipFile(file = cam, mode='r')\n",
        "cpt.extractall('./')\n",
        "cpt.close"
      ],
      "metadata": {
        "colab": {
          "base_uri": "https://localhost:8080/"
        },
        "id": "LXxzX7qYJCX7",
        "outputId": "83b8b10e-be22-4f59-f97e-aac178fb5d58"
      },
      "execution_count": 4,
      "outputs": [
        {
          "output_type": "execute_result",
          "data": {
            "text/plain": [
              "<bound method ZipFile.close of <zipfile.ZipFile filename='/content/drive/MyDrive/VC/Cópia de cat_dog_2-20230803T132654Z-001.zip' mode='r'>>"
            ]
          },
          "metadata": {},
          "execution_count": 4
        }
      ]
    },
    {
      "cell_type": "code",
      "source": [
        "igm = cv2.imread('/content/cat_dog_2/training_set/cat/cat.0.jpg')\n",
        "cv2_imshow(igm)\n",
        "igm2 = cv2.imread('/content/cat_dog_2/training_set/dog/dog.0.jpg')\n",
        "cv2_imshow(igm2)"
      ],
      "metadata": {
        "id": "IPk-M2jBJphi"
      },
      "execution_count": null,
      "outputs": []
    },
    {
      "cell_type": "code",
      "source": [
        "d1 = '/content/cat_dog_2/training_set/cat'\n",
        "arq1 = [os.path.join(d1, f) for f in sorted(os.listdir(d1))]\n",
        "arq1\n",
        "d2 = '/content/cat_dog_2/training_set/dog'\n",
        "arq2 = [os.path.join(d2, f) for f in sorted(os.listdir(d2))]\n",
        "arq2"
      ],
      "metadata": {
        "id": "bxONKjZ8JyLQ"
      },
      "execution_count": null,
      "outputs": []
    },
    {
      "cell_type": "code",
      "source": [
        "vetimg = []\n",
        "espc = []\n",
        "altura, largura = 128, 128\n",
        "cont=0"
      ],
      "metadata": {
        "id": "W_OvXfW_sXrw"
      },
      "execution_count": 11,
      "outputs": []
    },
    {
      "cell_type": "code",
      "source": [
        "for cam in arq1:\n",
        "  try:\n",
        "    imagem = cv2.imread(cam)\n",
        "    (H, W) = imagem.shape[:2]\n",
        "  except:\n",
        "    continue\n",
        "  cont+=1\n",
        "  imagem = cv2.resize(imagem, (altura, largura))\n",
        "  imagem = cv2.cvtColor(imagem, cv2.COLOR_BGR2GRAY)\n",
        "  cv2_imshow(imagem)\n",
        "\n",
        "  imagem = imagem.ravel()\n",
        "  vetimg.append(imagem)\n",
        "\n",
        "  nome_imagem = os.path.basename(os.path.normpath(cam))\n",
        "  if nome_imagem.startswith('b'):\n",
        "    classe = 0\n",
        "  else:\n",
        "    classe = 1\n",
        "  espc.append(classe)\n",
        "  print(classe)\n",
        "\n",
        "for cam in arq2:\n",
        "  try:\n",
        "    imagem = cv2.imread(cam)\n",
        "    (H, W) = imagem.shape[:2]\n",
        "  except:\n",
        "    continue\n",
        "  cont+=1\n",
        "  imagem = cv2.resize(imagem, (altura, largura))\n",
        "  imagem = cv2.cvtColor(imagem, cv2.COLOR_BGR2GRAY)\n",
        "  cv2_imshow(imagem)\n",
        "\n",
        "  imagem = imagem.ravel()\n",
        "  vetimg.append(imagem)\n",
        "\n",
        "  nome_imagem = os.path.basename(os.path.normpath(cam))\n",
        "  if nome_imagem.startswith('d'):\n",
        "    classe = 0\n",
        "  else:\n",
        "    classe = 1\n",
        "  espc.append(classe)\n",
        "  print(classe)"
      ],
      "metadata": {
        "id": "-nt_oVCHtkvT"
      },
      "execution_count": null,
      "outputs": []
    }
  ]
}